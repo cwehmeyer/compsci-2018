{
 "cells": [
  {
   "cell_type": "code",
   "execution_count": null,
   "metadata": {},
   "outputs": [],
   "source": [
    "import numpy as np\n",
    "from numpy import roll\n",
    "import matplotlib.pyplot as plt\n",
    "from project_5.jacobi import jacobi\n",
    "from project_4.poisson_1 import create_laplacian_2d"
   ]
  },
  {
   "cell_type": "code",
   "execution_count": null,
   "metadata": {},
   "outputs": [],
   "source": [
    "hx, hy = 1, 0.1\n",
    "lx, ly = 7, 7\n",
    "x_array=np.arange(0, lx, hx)\n",
    "y_array=np.arange(0, ly, hy)\n",
    "nx, ny = len(x_array), len(y_array)\n",
    "rho = np.random.normal(size=(ny,nx))\n",
    "rho-=np.mean(rho)\n",
    "pot_1 = jacobi(rho, (hx,hy), maxiter=20000)\n",
    "laplacian = create_laplacian_2d(nx, ny, lx, ly)\n",
    "pot_2 = np.linalg.solve(laplacian, -rho.reshape(nx*ny))\n",
    "pot_2 = np.reshape(pot_2, (ny,nx))"
   ]
  },
  {
   "cell_type": "code",
   "execution_count": null,
   "metadata": {},
   "outputs": [],
   "source": [
    "\n",
    "plt.plot(x_array,pot_1[0])\n",
    "plt.plot(x_array, pot_2[0]+(pot_1[0]-pot_2[0]))\n",
    "np.testing.assert_allclose(pot_2[0]+(pot_1[0]-pot_2[0]),pot_1[0],rtol=1e-5, atol=1e-5)"
   ]
  },
  {
   "cell_type": "code",
   "execution_count": null,
   "metadata": {},
   "outputs": [],
   "source": [
    "np.testing.assert_almost_equal(pot_1, pot_2, decimal=4)"
   ]
  },
  {
   "cell_type": "code",
   "execution_count": null,
   "metadata": {},
   "outputs": [],
   "source": [
    "a=np.array([[5,3,4,6],[2,4,6,8]])\n",
    "np.sum([np.prod(np.delete(a,i)) for i in range(4)])\n",
    "a.ndim"
   ]
  },
  {
   "cell_type": "code",
   "execution_count": null,
   "metadata": {},
   "outputs": [],
   "source": [
    "a.shape"
   ]
  },
  {
   "cell_type": "code",
   "execution_count": null,
   "metadata": {},
   "outputs": [],
   "source": [
    "np.testing.assert_almost_equal()"
   ]
  },
  {
   "cell_type": "code",
   "execution_count": null,
   "metadata": {},
   "outputs": [],
   "source": []
  },
  {
   "cell_type": "code",
   "execution_count": null,
   "metadata": {},
   "outputs": [],
   "source": []
  },
  {
   "cell_type": "code",
   "execution_count": null,
   "metadata": {},
   "outputs": [],
   "source": []
  }
 ],
 "metadata": {
  "kernelspec": {
   "display_name": "Python 3",
   "language": "python",
   "name": "python3"
  },
  "language_info": {
   "codemirror_mode": {
    "name": "ipython",
    "version": 3
   },
   "file_extension": ".py",
   "mimetype": "text/x-python",
   "name": "python",
   "nbconvert_exporter": "python",
   "pygments_lexer": "ipython3",
   "version": "3.7.0"
  }
 },
 "nbformat": 4,
 "nbformat_minor": 2
}
