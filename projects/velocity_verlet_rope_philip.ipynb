{
 "cells": [
  {
   "cell_type": "code",
   "execution_count": 3,
   "metadata": {},
   "outputs": [],
   "source": [
    "import numpy as np\n",
    "import matplotlib.pyplot as plt\n",
    "from __future__ import division"
   ]
  },
  {
   "cell_type": "code",
   "execution_count": 7,
   "metadata": {},
   "outputs": [],
   "source": [
    "#10 particles in 15m height\n",
    "init_pos=np.array([np.array([2*i,15])for i in range(10)])\n",
    "init_vel=np.zeros(init_pos.shape)"
   ]
  },
  {
   "cell_type": "code",
   "execution_count": 16,
   "metadata": {},
   "outputs": [],
   "source": [
    "def normalize(a):\n",
    "    return a/np.linalg.norm(a)\n",
    "\n",
    "def acceleration(index,pos,k=300,g=9.81,m=1):\n",
    "    a=pos[index]\n",
    "    n_1,n_2=pos[index-1],pos[index+1]\n",
    "    a_grav=[0,-g]\n",
    "    a_spring1=-k*(a-n_1)/m\n",
    "    a_spring2=-k*(a-n_2)/m\n",
    "    total_a= a_grav+a_spring1+a_spring2\n",
    "    return total_a\n",
    "def velocity_verlet(timestep,totaltime):\n",
    "    n=int(totaltime/timestep)\n",
    "    pos=np.array([np.array([2*i,15])for i in range(10)])\n",
    "    vel=np.zeros(init_pos.shape)\n",
    "    for i in range(n):\n",
    "        oldpos=pos\n",
    "        for j in range(1,len(pos)-1):\n",
    "            new_pos=pos[j]+timestep*vel[j]+timestep**2*acceleration(j,pos)/2\n",
    "            pos[j]=new_pos\n",
    "            new_vel=vel[j]+timestep*(acceleration(j,oldpos)+acceleration(j,pos))\n",
    "            vel[j]=new_vel\n",
    "            \n",
    "            \n",
    "\n",
    "    x,y=pos.swapaxes(0,1)[0],pos.swapaxes(0,1)[1]\n",
    "    plt.plot(x,y,ls=':',marker='o')\n",
    "    plt.show()\n",
    "\n",
    "            \n",
    "        "
   ]
  },
  {
   "cell_type": "code",
   "execution_count": 23,
   "metadata": {},
   "outputs": [
    {
     "data": {
      "image/png": "[encoded data removed]",
      "text/plain": [
       "<matplotlib.figure.Figure at 0x6a32b50>"
      ]
     },
     "metadata": {},
     "output_type": "display_data"
    }
   ],
   "source": [
    "velocity_verlet(0.001,10)"
   ]
  },
  {
   "cell_type": "code",
   "execution_count": null,
   "metadata": {},
   "outputs": [],
   "source": []
  },
  {
   "cell_type": "code",
   "execution_count": null,
   "metadata": {},
   "outputs": [],
   "source": []
  }
 ],
 "metadata": {
  "kernelspec": {
   "display_name": "Python 2",
   "language": "python",
   "name": "python2"
  },
  "language_info": {
   "codemirror_mode": {
    "name": "ipython",
    "version": 2
   },
   "file_extension": ".py",
   "mimetype": "text/x-python",
   "name": "python",
   "nbconvert_exporter": "python",
   "pygments_lexer": "ipython2",
   "version": "2.7.14"
  }
 },
 "nbformat": 4,
 "nbformat_minor": 2
}
