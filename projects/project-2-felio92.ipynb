{
 "cells": [
  {
   "cell_type": "code",
   "execution_count": null,
   "metadata": {},
   "outputs": [],
   "source": [
    "%matplotlib notebook\n",
    "import matplotlib.pyplot as plt\n",
    "import numpy as np\n",
    "from matplotlib import animation, rc\n",
    "from IPython.display import HTML"
   ]
  },
  {
   "cell_type": "code",
   "execution_count": null,
   "metadata": {},
   "outputs": [],
   "source": [
    "def generate_config(x0=0, y0=20, n=30, dx=1.):\n",
    "    \"\"\"Returns the initial configuration of the n chained particles, which is a horizontal line.\n",
    "    The function returns an array, which has n elements, where each element is a tuple consisting\n",
    "    of the x- and y-component of the respective particle. The x-coordinates are evenly spaced and\n",
    "    the y-coordinates are set to some constant y0\n",
    "    \n",
    "    Parameters\n",
    "    ----------\n",
    "    x0 - x-coordinate of first particle. Standard value is 0.\n",
    "    y0 - y-coordinate of all particles. Standard value is 20.\n",
    "    n  - Number of particles, standard value is set to 30.\n",
    "    dx - Horizontal spacing between neighbouring particles. Standard value is 1\n",
    "    \"\"\"\n",
    "    \n",
    "    r = np.zeros((n, 2))\n",
    "    v = np.zeros((n, 2))\n",
    "    r[:, 0] = np.linspace(x0, x0 + n*dx, n)\n",
    "    r[:, 1] = np.linspace(y0, y0, n)\n",
    "    \n",
    "    return r, v"
   ]
  },
  {
   "cell_type": "code",
   "execution_count": null,
   "metadata": {},
   "outputs": [],
   "source": [
    "def potential_gradient(r, t, g=9.81 , k=20., f=0, amp=1, n_cycles=5):\n",
    "    \n",
    "    \"\"\"Calculates the potential gradient for a given spatial configuration r of n particles in a chain.\n",
    "    Returns a vector, where the i-th entry is a tuple consisting of the x- and y-coordinate of the gradient for particle i.\n",
    "    Because the first and last particle are fixed, this function only computes the gradient for the second to the second-to-last particle,\n",
    "    while for the first and last particle the gradient is always 0. Includes a sinusoidal force that acts upon the middle particle of the\n",
    "    chain for a multiple of the driving oscillation period.\n",
    "    \n",
    "    Parameters\n",
    "    ----------\n",
    "    r - Array that has n-elements and each element has two scalar entries.\n",
    "    g - Gravitational constant. Default value is 9.81.\n",
    "    k - Spring constant. Default value is 20.\n",
    "    f - Frequency of the driving force. Default is set to 0.\n",
    "    amp - Amplitude of the driving force. Default is set to 1.\n",
    "    \"\"\"\n",
    "    n = len(r)\n",
    "    harmonic_gradient = np.zeros((n, 2))\n",
    "    gravitational_gradient = np.zeros((n, 2))\n",
    "    driving_force = amp * np.sin(f * t)\n",
    "    \n",
    "    harmonic_gradient[1:-1] = k * (r[1:-1] - r[:-2]) - k * (r[2:] - r[1:-1])\n",
    "    gravitational_gradient[1:-1][:,1] = g\n",
    "    total_gradient = harmonic_gradient + gravitational_gradient\n",
    "    if f!=0 and t<n_cycles * 2*np.pi * 1/f:\n",
    "        total_gradient[n//2,0] += driving_force\n",
    "    \n",
    "    return total_gradient\n",
    "        "
   ]
  },
  {
   "cell_type": "code",
   "execution_count": null,
   "metadata": {},
   "outputs": [],
   "source": [
    "def vv(potential_gradient, r_init, v_init, dt=1/100, t_ges=100, g=9.81, k=50., f=0, amp=1):\n",
    "    \n",
    "    size = int(t_ges/dt)\n",
    "    n = len(r_init)\n",
    "    t = 0\n",
    "    \n",
    "    r_matrix, v_matrix = np.zeros((size, n, 2)), np.zeros((size, n, 2))\n",
    "    r_matrix[0], v_matrix[0] = r_init, v_init\n",
    "    \n",
    "    for i in range(1,size):\n",
    "        \n",
    "        r = r_matrix[i-1]\n",
    "        v = v_matrix[i-1]\n",
    "        gradient = potential_gradient(r, t, g, k, f, amp)\n",
    "        \n",
    "        r_new = r + dt * v - 1/2 * dt**2 * gradient\n",
    "        t += dt\n",
    "        gradient_new = potential_gradient(r_new, t, g, k, f, amp) \n",
    "        v_new = v - 1/2 * dt * (gradient + gradient_new)\n",
    "        \n",
    "        v_new[:,1][r_new[:,1]<0]*=-1\n",
    "        #Following line breaks energy conservation\n",
    "        #r_new[:,1][r_new[:,1]<0]*=-1 \n",
    "        \n",
    "        r_matrix[i], v_matrix[i] = r_new, v_new\n",
    "\n",
    "        \n",
    "    return r_matrix, v_matrix"
   ]
  },
  {
   "cell_type": "markdown",
   "metadata": {},
   "source": [
    "## 1st trial of velocity-verlet algorithm: n=30, g=9.81, k=50, no driving force"
   ]
  },
  {
   "cell_type": "code",
   "execution_count": null,
   "metadata": {},
   "outputs": [],
   "source": [
    "r_init, v_init = generate_config()\n",
    "r_matrix, v_matrix = vv(potential_gradient, r_init, v_init)"
   ]
  },
  {
   "cell_type": "code",
   "execution_count": null,
   "metadata": {},
   "outputs": [],
   "source": [
    "fig, ax = plt.subplots(figsize=(7, 7))\n",
    "line, = ax.plot(r_matrix[0,:,0],r_matrix[0,:,1], '-o', lw = 1)\n",
    "ax.set_xlim(( 0, np.max(r_matrix[0,:,0])))\n",
    "ax.set_ylim((0, np.max(r_matrix[0,:,1]) + 5))\n",
    "\n",
    "def animate(i):\n",
    "    index = (10*i)%len(r_matrix)\n",
    "    x, y = r_matrix[index,:,0], r_matrix[index,:,1]\n",
    "    line.set_data(x, y)\n",
    "    return line,\n",
    "\n",
    "anim = animation.FuncAnimation(fig, animate, interval=100, blit=True, repeat=False)\n",
    "#HTML(anim.to_html5_video(embed_limit=40))"
   ]
  },
  {
   "cell_type": "markdown",
   "metadata": {},
   "source": [
    "## 2nd trial of velocity-verlet algorithm: n=30, g=9.81, k=200, no driving force"
   ]
  },
  {
   "cell_type": "code",
   "execution_count": null,
   "metadata": {},
   "outputs": [],
   "source": [
    "r_init, v_init = generate_config()\n",
    "r_matrix, v_matrix = vv(potential_gradient, r_init, v_init, k=200)"
   ]
  },
  {
   "cell_type": "code",
   "execution_count": null,
   "metadata": {},
   "outputs": [],
   "source": [
    "fig, ax = plt.subplots(figsize=(7, 7))\n",
    "line, = ax.plot(r_matrix[0,:,0],r_matrix[0,:,1], '-o', lw=1)\n",
    "ax.set_xlim(( 0, np.max(r_matrix[0,:,0])))\n",
    "ax.set_ylim((0, np.max(r_matrix[0,:,1])+5))\n",
    "\n",
    "anim = animation.FuncAnimation(fig, animate, interval=100, blit=True, repeat=False)"
   ]
  },
  {
   "cell_type": "markdown",
   "metadata": {},
   "source": [
    "## 3rd trial of velocity-verlet algorithm: n=4, g=0, k=20, with sinusoidal driving force in x-direction"
   ]
  },
  {
   "cell_type": "code",
   "execution_count": null,
   "metadata": {},
   "outputs": [],
   "source": [
    "r_init, v_init = generate_config(n=4)\n",
    "r_matrix1, v_matrix2 = vv(potential_gradient, r_init, v_init, k=20, g=0, amp=1, f=np.sqrt(20))\n",
    "r_matrix2, v_matrix2 = vv(potential_gradient, r_init, v_init, k=20, g=0, amp=1, f=np.sqrt(3*20))"
   ]
  },
  {
   "cell_type": "code",
   "execution_count": null,
   "metadata": {},
   "outputs": [],
   "source": [
    "fig, ax = plt.subplots(1,2,figsize=(8, 3), sharey=True)\n",
    "line1, = ax[0].plot(r_matrix1[0,:,0],r_matrix1[0,:,1], '-o', lw=1)\n",
    "line2, = ax[1].plot(r_matrix1[0,:,0],r_matrix1[0,:,1], '-o', lw=1)\n",
    "\n",
    "ax[0].set_title(\"$\\omega = \\sqrt{k}$\")\n",
    "ax[1].set_title(\"$\\omega = \\sqrt{3k}$\")\n",
    "def animate(i):\n",
    "    index = (10*i)\n",
    "    x1, y1 = r_matrix1[index,:,0], r_matrix1[index,:,1]\n",
    "    x2, y2 = r_matrix2[index,:,0], r_matrix2[index,:,1]\n",
    "    line1.set_data(x1,y1)\n",
    "    line2.set_data(x2,y2)\n",
    "    return line,\n",
    "    \n",
    "anim = animation.FuncAnimation(fig, animate, interval=100, blit=True, repeat=False)"
   ]
  },
  {
   "cell_type": "code",
   "execution_count": null,
   "metadata": {},
   "outputs": [],
   "source": []
  }
 ],
 "metadata": {
  "kernelspec": {
   "display_name": "Python 3",
   "language": "python",
   "name": "python3"
  },
  "language_info": {
   "codemirror_mode": {
    "name": "ipython",
    "version": 3
   },
   "file_extension": ".py",
   "mimetype": "text/x-python",
   "name": "python",
   "nbconvert_exporter": "python",
   "pygments_lexer": "ipython3",
   "version": "3.7.0"
  }
 },
 "nbformat": 4,
 "nbformat_minor": 2
}
