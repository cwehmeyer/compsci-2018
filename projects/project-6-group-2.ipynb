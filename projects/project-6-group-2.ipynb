{
 "cells": [
  {
   "cell_type": "code",
   "execution_count": null,
   "metadata": {},
   "outputs": [],
   "source": [
    "%matplotlib notebook\n",
    "import numpy as np\n",
    "import matplotlib.pyplot as plt\n",
    "from matplotlib import animation\n",
    "from IPython.display import HTML"
   ]
  },
  {
   "cell_type": "code",
   "execution_count": null,
   "metadata": {},
   "outputs": [],
   "source": [
    "def grad_LJ(r, eps, sig):\n",
    "    n = len(r)\n",
    "    grad = np.zeros_like(r, dtype=\"float64\")\n",
    "    for i in range(0,n):\n",
    "        for j in range(0, n):\n",
    "            if i != j:\n",
    "                dr = r[i] - r[j]\n",
    "                length = np.linalg.norm(dr)\n",
    "                grad[i] += eps*((6*sig**6)/length**8 - (12*sig**12)/length**12)*dr\n",
    "    return grad "
   ]
  },
  {
   "cell_type": "code",
   "execution_count": null,
   "metadata": {},
   "outputs": [],
   "source": [
    "def grad_harmonic(r, k):\n",
    "    return 2*k*r"
   ]
  },
  {
   "cell_type": "code",
   "execution_count": null,
   "metadata": {},
   "outputs": [],
   "source": [
    "def potential_gradient(r, eps=1, sig=1, k=1):\n",
    "    return (grad_LJ(r, eps, sig) + grad_harmonic(r, k))"
   ]
  },
  {
   "cell_type": "code",
   "execution_count": null,
   "metadata": {},
   "outputs": [],
   "source": [
    "def vv(potential_gradient, r_init, v_init, dt=1/100, t_ges=100, eps=1., sig=1., k=1.):\n",
    "    \n",
    "    size = int(t_ges/dt)\n",
    "    n = len(r_init)\n",
    "    \n",
    "    r_matrix, v_matrix = np.zeros((size, n, 2)), np.zeros((size, n, 2))\n",
    "    r_matrix[0], v_matrix[0] = r_init, v_init\n",
    "    \n",
    "    for i in range(1,size):\n",
    "        \n",
    "        r = r_matrix[i-1]\n",
    "        v = v_matrix[i-1]\n",
    "        gradient = potential_gradient(r, eps, sig, k)\n",
    "        \n",
    "        r_new = r + dt * v - 1/2 * dt**2 * gradient\n",
    "        gradient_new = potential_gradient(r_new, eps, sig, k) \n",
    "        v_new = v - 1/2 * dt * (gradient + gradient_new)\n",
    "        \n",
    "        r_matrix[i], v_matrix[i] = r_new, v_new\n",
    "\n",
    "        \n",
    "    return r_matrix, v_matrix"
   ]
  },
  {
   "cell_type": "code",
   "execution_count": null,
   "metadata": {},
   "outputs": [],
   "source": [
    "r_init = np.random.uniform(low=-5, high=5,size=(4,2))\n",
    "v_init = np.zeros_like(r_init)\n",
    "r_matrix, v_matrix = vv(potential_gradient, r_init, v_init, k=1/20)"
   ]
  },
  {
   "cell_type": "code",
   "execution_count": null,
   "metadata": {},
   "outputs": [],
   "source": [
    "fig, ax = plt.subplots(figsize=(5, 5))\n",
    "scat = ax.scatter(r_matrix[0,:,0], r_matrix[0,:,1], c=np.arange(len(r_init)))\n",
    "qax = ax.quiver(r_matrix[0,:,0], r_matrix[0,:,1], v_matrix[1,:,0], v_matrix[1,:,1],np.arange(len(r_init)),scale=20, width=0.005)\n",
    "ax.set_xlim(np.max([-10,np.min(r_matrix[:,:,0])]),np.min([10,np.max(r_matrix[:,:,0])]))\n",
    "ax.set_ylim(np.max([-10,np.min(r_matrix[:,:,1])]),np.min([10,np.max(r_matrix[:,:,1])]))\n",
    "\n",
    "def animate(i):\n",
    "    index = 2*i\n",
    "    data = r_matrix[index]\n",
    "    scat.set_offsets(data)\n",
    "    qax.set_UVC(v_matrix[index,:,0],v_matrix[index,:,1])\n",
    "    qax.set_offsets(data)\n",
    "\n",
    "anim = animation.FuncAnimation(fig, animate, interval=40, blit=True, repeat=False)"
   ]
  },
  {
   "cell_type": "code",
   "execution_count": null,
   "metadata": {},
   "outputs": [],
   "source": [
    "def gd(potential_gradient, r_init, gamma=1/100, size=10000, eps=1, sig=1, k=1):\n",
    "    n = len(r_init)\n",
    "    r_ = r_init\n",
    "    for i in range(1,size):\n",
    "        r = r_ -gamma*potential_gradient(r_, eps, sig, k)\n",
    "        r_ = r[::]\n",
    "    return r  "
   ]
  },
  {
   "cell_type": "code",
   "execution_count": null,
   "metadata": {},
   "outputs": [],
   "source": [
    "r_init = np.random.uniform(low=-1, high=1,size=(3,2))\n",
    "r = gd(potential_gradient,r_init, k=1/10)\n",
    "plt.scatter(r[:,0],r[:,1])\n",
    "plt.xlim(-2,2)\n",
    "plt.ylim(-2,2)\n",
    "plt.show()\n",
    "    "
   ]
  }
 ],
 "metadata": {
  "kernelspec": {
   "display_name": "Python 3",
   "language": "python",
   "name": "python3"
  },
  "language_info": {
   "codemirror_mode": {
    "name": "ipython",
    "version": 3
   },
   "file_extension": ".py",
   "mimetype": "text/x-python",
   "name": "python",
   "nbconvert_exporter": "python",
   "pygments_lexer": "ipython3",
   "version": "3.7.0"
  }
 },
 "nbformat": 4,
 "nbformat_minor": 2
}
