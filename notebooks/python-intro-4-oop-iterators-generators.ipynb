{
 "cells": [
  {
   "cell_type": "markdown",
   "metadata": {},
   "source": [
    "# Introduction to Python IV: OOP, iterators, and generators\n",
    "\n",
    "## Content\n",
    "- What are classes and how to use/build them?\n",
    "- What are iterators and generators and what's the difference?\n",
    "- Some thoughts about testing...\n",
    "\n",
    "## Remember jupyter notebooks\n",
    "- To run the currently highlighted cell, hold <kbd>&#x21E7; Shift</kbd> and press <kbd>&#x23ce; Enter</kbd>.\n",
    "- To get help for a specific function, place the cursor within the function's brackets, hold <kbd>&#x21E7; Shift</kbd>, and press <kbd>&#x21E5; Tab</kbd>."
   ]
  },
  {
   "cell_type": "code",
   "execution_count": null,
   "metadata": {},
   "outputs": [],
   "source": [
    "%matplotlib inline\n",
    "import matplotlib.pyplot as plt\n",
    "import numpy as np"
   ]
  },
  {
   "cell_type": "markdown",
   "metadata": {},
   "source": [
    "## Object-oriented programming (OOP)\n",
    "A `class` is a blueprint for a container like data structure containing variables (**attributes**) and functions (**methods**). An `object` is an actual instance of a `class`.\n",
    "\n",
    "**Example**: let's build a rotation matrix, i.e.,\n",
    "\n",
    "$$\\mathbf{R}(\\phi) = \\begin{pmatrix} \\cos(\\phi) & -\\sin(\\phi) \\\\ \\sin(\\phi) & \\cos(\\phi) \\end{pmatrix},$$\n",
    "\n",
    "which rotates a vector $\\mathbf{r}\\in\\mathbb{R}^2$ by the angle $\\phi$.\n",
    "\n",
    "As a function, it could look like this:"
   ]
  },
  {
   "cell_type": "code",
   "execution_count": null,
   "metadata": {},
   "outputs": [],
   "source": [
    "def rotate(vector, angle):\n",
    "    \"\"\"Rotate the given vector by the given angle\"\"\"\n",
    "    rad = np.pi * angle / 180\n",
    "    rotation = np.array([\n",
    "        [np.cos(rad), -np.sin(rad)],\n",
    "        [np.sin(rad), np.cos(rad)]])\n",
    "    return np.dot(rotation, np.asarray(vector))\n",
    "\n",
    "\n",
    "print(rotate([1, 0], 90))"
   ]
  },
  {
   "cell_type": "markdown",
   "metadata": {},
   "source": [
    "Now, let's build a class to encapsulate this behaviour!"
   ]
  },
  {
   "cell_type": "code",
   "execution_count": null,
   "metadata": {},
   "outputs": [],
   "source": [
    "class RotationMatrix(object):\n",
    "    \"\"\"This will rotate a 2D vector by some angle phi\"\"\"\n",
    "    \n",
    "    def __init__(self, angle):\n",
    "        \"\"\"\n",
    "        Arguments:\n",
    "            angle (float): angle in °\n",
    "        \"\"\"\n",
    "        self.angle = angle % 360\n",
    "\n",
    "\n",
    "rotation = RotationMatrix(90)\n",
    "print(rotation.angle)\n",
    "print(rotation)"
   ]
  },
  {
   "cell_type": "markdown",
   "metadata": {},
   "source": [
    "Printing `rotation` tells us that it is an **object** as well as its address &mdash; but nothing more. To learn about its actual angle, we need to look up the `angle` **attribute**."
   ]
  },
  {
   "cell_type": "code",
   "execution_count": null,
   "metadata": {},
   "outputs": [],
   "source": [
    "class RotationMatrix(object):\n",
    "    \"\"\"This will rotate a 2D vector by some angle phi\"\"\"\n",
    "    \n",
    "    def __init__(self, angle):\n",
    "        \"\"\"\n",
    "        Arguments:\n",
    "            angle (float): angle in °\n",
    "        \"\"\"\n",
    "        self.angle = angle % 360\n",
    "\n",
    "    def __repr__(self):\n",
    "        \"\"\"Represent the object by some informative string\"\"\"\n",
    "        return f'Rotation by {self.angle:.2f}°'\n",
    "\n",
    "    \n",
    "rotation = RotationMatrix(90)\n",
    "print(rotation)"
   ]
  },
  {
   "cell_type": "markdown",
   "metadata": {},
   "source": [
    "The `__repr__` method is one of many **magic methods** in Python. These methods have two leading and trailing underscores and are called in very specific circumstances, e.g., when we **initialise** the object (`__init__`) or if we attempt to **print** the object (`__repr__`)."
   ]
  },
  {
   "cell_type": "code",
   "execution_count": null,
   "metadata": {},
   "outputs": [],
   "source": [
    "rotation2 = RotationMatrix(-90)\n",
    "print(rotation2)"
   ]
  },
  {
   "cell_type": "markdown",
   "metadata": {},
   "source": [
    "Much better! But remember that our class should represent a **matrix**, and matrices can be multiplied..."
   ]
  },
  {
   "cell_type": "code",
   "execution_count": null,
   "metadata": {},
   "outputs": [],
   "source": [
    "rotation * rotation2"
   ]
  },
  {
   "cell_type": "markdown",
   "metadata": {},
   "source": [
    "We want to make matrix multiplication available. For that, we need another **magic method**, `__mul__`:"
   ]
  },
  {
   "cell_type": "code",
   "execution_count": null,
   "metadata": {},
   "outputs": [],
   "source": [
    "class RotationMatrix(object):\n",
    "    \"\"\"This will rotate a 2D vector by some angle phi\"\"\"\n",
    "    \n",
    "    def __init__(self, angle):\n",
    "        \"\"\"\n",
    "        Arguments:\n",
    "            angle (float): angle in °\n",
    "        \"\"\"\n",
    "        self.angle = angle % 360\n",
    "\n",
    "    def __repr__(self):\n",
    "        \"\"\"Represent the object by some informative string\"\"\"\n",
    "        return f'Rotation by {self.angle:.2f}°'\n",
    "    \n",
    "    def __mul__(self, other):\n",
    "        \"\"\"Multiply two rotations by adding their angles\"\"\"\n",
    "        return RotationMatrix(self.angle + other.angle)\n",
    "\n",
    "\n",
    "rotation = RotationMatrix(90)\n",
    "print(rotation)\n",
    "\n",
    "rotation2 = RotationMatrix(-90)\n",
    "print(rotation2)\n",
    "\n",
    "print(rotation * rotation2)\n",
    "print(rotation.__mul__(rotation2))"
   ]
  },
  {
   "cell_type": "markdown",
   "metadata": {},
   "source": [
    "Here, we have used that a product of two rotation matrices is another rotation matrix where the angle is the sum of the two original angles.\n",
    "\n",
    "Note that we now have (rotation) matrix multiplication available without even having implemented the actual rotation of a vector..."
   ]
  },
  {
   "cell_type": "code",
   "execution_count": null,
   "metadata": {},
   "outputs": [],
   "source": [
    "class RotationMatrix(object):\n",
    "    \"\"\"This will rotate a 2D vector by some angle phi\"\"\"\n",
    "    \n",
    "    def __init__(self, angle):\n",
    "        \"\"\"\n",
    "        Arguments:\n",
    "            angle (float): angle in °\n",
    "        \"\"\"\n",
    "        self.angle = angle % 360\n",
    "        self.rad = np.pi * self.angle / 180\n",
    "        self.rotation_matrix = np.array([\n",
    "            [np.cos(self.rad), -np.sin(self.rad)],\n",
    "            [np.sin(self.rad), np.cos(self.rad)]])\n",
    "        \n",
    "    def __repr__(self):\n",
    "        \"\"\"Represent the object by some informative string\"\"\"\n",
    "        return f'Rotation by {self.angle:.2f}°'\n",
    "    \n",
    "    def __mul__(self, other):\n",
    "        \"\"\"Multiply two rotations by adding their angles\"\"\"\n",
    "        return RotationMatrix(self.angle + other.angle)\n",
    "\n",
    "    def rotate(self, vector):\n",
    "        \"\"\"Rotate the vector\"\"\"\n",
    "        return np.dot(self.rotation_matrix, np.asarray(vector))\n",
    "\n",
    "\n",
    "rotation = RotationMatrix(90)\n",
    "print(rotation.rotate([1, 0]))"
   ]
  },
  {
   "cell_type": "markdown",
   "metadata": {},
   "source": [
    "And now"
   ]
  },
  {
   "cell_type": "code",
   "execution_count": null,
   "metadata": {},
   "outputs": [],
   "source": [
    "class RotationMatrix2(RotationMatrix):\n",
    "    \"\"\"This is an example on inheritance\"\"\"\n",
    "\n",
    "    def __mul__(self, other):\n",
    "        \"\"\"Multiply two rotations by adding their angles\"\"\"\n",
    "        return RotationMatrix2(self.angle + other.angle)\n",
    "\n",
    "    def __call__(self, vector):\n",
    "        \"\"\"Rotate the vector\"\"\"\n",
    "        return self.rotate(vector)\n",
    "\n",
    "\n",
    "r1 = RotationMatrix2(180)\n",
    "r2 = RotationMatrix(-90)\n",
    "\n",
    "print(isinstance(r1, RotationMatrix), isinstance(r1, RotationMatrix2))\n",
    "print(isinstance(r2, RotationMatrix), isinstance(r2, RotationMatrix2))"
   ]
  },
  {
   "cell_type": "code",
   "execution_count": null,
   "metadata": {},
   "outputs": [],
   "source": [
    "print(isinstance(r1 * r2, RotationMatrix), isinstance(r1 * r2, RotationMatrix2))\n",
    "print(isinstance(r2 * r1, RotationMatrix), isinstance(r2 * r1, RotationMatrix2))"
   ]
  },
  {
   "cell_type": "code",
   "execution_count": null,
   "metadata": {},
   "outputs": [],
   "source": [
    "print(r1 * r2)\n",
    "print((r1 * r2)([1, 0]))"
   ]
  },
  {
   "cell_type": "markdown",
   "metadata": {},
   "source": [
    "**Example**: Some of Python's **magic methods** and their corresponding binary/unary operators:"
   ]
  },
  {
   "cell_type": "code",
   "execution_count": null,
   "metadata": {},
   "outputs": [],
   "source": [
    "class Tester(object):\n",
    "    def __add__(self, value):\n",
    "        print(f'__add__({value})')\n",
    "    def __sub__(self, value):\n",
    "        print(f'__sub__({value})')\n",
    "    def __mul__(self, value):\n",
    "        print(f'__mul__({value})')\n",
    "    def __truediv__(self, value):\n",
    "        print(f'__truediv__({value})')\n",
    "    def __floordiv__(self, value):\n",
    "        print(f'__floordiv__({value})')\n",
    "    def __mod__(self, value):\n",
    "        print(f'__mod__({value})')\n",
    "    def __pow__(self, value):\n",
    "        print(f'__pow__({value})')\n",
    "    def __and__(self, value):\n",
    "        print(f'__and__({value})')\n",
    "    def __or__(self, value):\n",
    "        print(f'__or__({value})')\n",
    "    def __xor__(self, value):\n",
    "        print(f'__xor__({value})')\n",
    "    def __eq__(self, value):\n",
    "        print(f'__eq__({value})')\n",
    "    def __neq__(self, value):\n",
    "        print(f'__neq__({value})')\n",
    "    def __gt__(self, value):\n",
    "        print(f'__gt__({value})')\n",
    "    def __ge__(self, value):\n",
    "        print(f'__ge__({value})')\n",
    "    def __lt__(self, value):\n",
    "        print(f'__lt__({value})')\n",
    "    def __le__(self, value):\n",
    "        print(f'__le__({value})')\n",
    "    def __radd__(self, value):\n",
    "        print(f'__radd__({value})')\n",
    "    def __iadd__(self, value):\n",
    "        print(f'__iadd__({value})')\n",
    "\n",
    "\n",
    "t = Tester()\n",
    "t + 1\n",
    "t - 1\n",
    "t * 1\n",
    "t / 1\n",
    "t // 1\n",
    "t % 1\n",
    "t ** 1\n",
    "t & 1\n",
    "t | 1\n",
    "t ^ 1\n",
    "t == 1\n",
    "t != 1\n",
    "t > 1\n",
    "t >= 1\n",
    "t < 1\n",
    "t <= 1\n",
    "1 + t\n",
    "t += 1"
   ]
  },
  {
   "cell_type": "markdown",
   "metadata": {},
   "source": [
    "## Iterators and generators\n",
    "We revisit the Fibonacci problem:\n",
    "\n",
    "$$f_i = f_{i-1} + f_{i-2},\\quad i\\geq2,\\, f_0=f_1=1.$$\n",
    "\n",
    "\n",
    "In the second introduction notebook, we *solved* this problem with the code snippet\n",
    "\n",
    "```Python\n",
    "a, b = 1, 1\n",
    "while True:\n",
    "    a, b = a + b, a\n",
    "    if a < 100:\n",
    "        print(a)\n",
    "    else:\n",
    "        break\n",
    "```\n",
    "\n",
    "Now, we create an `iterator` which we could use in a `for` loop:"
   ]
  },
  {
   "cell_type": "code",
   "execution_count": null,
   "metadata": {},
   "outputs": [],
   "source": [
    "class Fibonacci(object):\n",
    "    \"\"\"An iterator over Fibonacci numbers\"\"\"\n",
    "    \n",
    "    def __init__(self, stop):\n",
    "        \"\"\"Arguments:\n",
    "            stop (int): endpoint for the iteration\n",
    "        \"\"\"\n",
    "        self.stop = stop\n",
    "        self.a, self.b = 1, 1\n",
    "        \n",
    "    def __iter__(self):\n",
    "        \"\"\"This is what make this class an iterator\"\"\"\n",
    "        return self\n",
    "    \n",
    "    def __next__(self):\n",
    "        \"\"\"This is what actually computes the next number\"\"\"\n",
    "        self.a, self.b = self.a + self.b, self.a\n",
    "        if self.a < self.stop:\n",
    "            return self.a\n",
    "        raise StopIteration\n",
    "\n",
    "\n",
    "fib = Fibonacci(100)\n",
    "print(fib)"
   ]
  },
  {
   "cell_type": "code",
   "execution_count": null,
   "metadata": {},
   "outputs": [],
   "source": [
    "for value in fib:\n",
    "    print(value)"
   ]
  },
  {
   "cell_type": "code",
   "execution_count": null,
   "metadata": {},
   "outputs": [],
   "source": [
    "print(list(Fibonacci(100)))"
   ]
  },
  {
   "cell_type": "code",
   "execution_count": null,
   "metadata": {},
   "outputs": [],
   "source": [
    "fib = Fibonacci(100)\n",
    "for i in range(70):\n",
    "    print(i, next(fib))"
   ]
  },
  {
   "cell_type": "markdown",
   "metadata": {},
   "source": [
    "Hence, an `iterator` is a `class` which has the methods `__iter__()` and `__next__()`.\n",
    "\n",
    "A `generator` behaves very similar but does not require to write a `class`. The key component here is the `yield` command:"
   ]
  },
  {
   "cell_type": "code",
   "execution_count": null,
   "metadata": {},
   "outputs": [],
   "source": [
    "def fibonacci(stop):\n",
    "    \"\"\"Generate Fibonacci numbers\n",
    "    \n",
    "    Arguments:\n",
    "        stop (int): endpoint for the generation\n",
    "    \"\"\"\n",
    "    a, b = 1, 1\n",
    "    while True:\n",
    "        a, b = a + b, a\n",
    "        if a < stop:\n",
    "            yield a\n",
    "        else:\n",
    "            break\n",
    "\n",
    "\n",
    "print(fibonacci(100))"
   ]
  },
  {
   "cell_type": "code",
   "execution_count": null,
   "metadata": {},
   "outputs": [],
   "source": [
    "for value in fibonacci(100):\n",
    "    print(value)"
   ]
  },
  {
   "cell_type": "code",
   "execution_count": null,
   "metadata": {},
   "outputs": [],
   "source": [
    "print(list(fibonacci(100)))"
   ]
  },
  {
   "cell_type": "code",
   "execution_count": null,
   "metadata": {},
   "outputs": [],
   "source": [
    "fib = fibonacci(100)\n",
    "for i in range(10):\n",
    "    print(i, next(fib))"
   ]
  },
  {
   "cell_type": "markdown",
   "metadata": {},
   "source": [
    "## Some thoughts about testing...\n",
    "\n",
    "When using the **test-driven development** pattern, we want to make sure that testing each piece of code plays a central role in the entire development process. The cycle reads\n",
    "\n",
    "1. define a new interface (function, class, ...) changed functionality\n",
    "2. design conditions under which you can predict the behaviour\n",
    "3. write tests to check these predictions\n",
    "4. implement a quick prototype which passes the tests\n",
    "5. refactor the prototype for readability, speed, ...\n",
    "6. start over at 1.\n",
    "\n",
    "In practise, we can use `assert` to test predicted behaviour:"
   ]
  },
  {
   "cell_type": "code",
   "execution_count": null,
   "metadata": {},
   "outputs": [],
   "source": [
    "assert True, 'This is True and, thus, not interesting!'"
   ]
  },
  {
   "cell_type": "code",
   "execution_count": null,
   "metadata": {},
   "outputs": [],
   "source": [
    "assert False, 'This is False and very interesting!'"
   ]
  },
  {
   "cell_type": "markdown",
   "metadata": {},
   "source": [
    "**Example**: we want to write a generator which yields all neighbouring intergers up to its (excluded) stopping point, i.e.,\n",
    "\n",
    "$$[0, 1, 2, 3, 4, ..., n - 1] \\quad \\to \\quad [(0, 1), (1, 2), (2, 3), ..., (n - 2, n - 1)]$$\n",
    "\n",
    "for the use case `pairs(n)`.\n",
    "\n",
    "We start the development process by writing some test function and the interface and convince ourselfs that the test fails:"
   ]
  },
  {
   "cell_type": "code",
   "execution_count": null,
   "metadata": {},
   "outputs": [],
   "source": [
    "def test_pairs(generator):\n",
    "    for x, y in generator:\n",
    "        assert y == x + 1, f'Failure for ({x}, {y})'\n",
    "\n",
    "\n",
    "def pairs(stop):\n",
    "    pass\n",
    "\n",
    "\n",
    "test_pairs(pairs(100))"
   ]
  },
  {
   "cell_type": "markdown",
   "metadata": {},
   "source": [
    "Now we start prototyping and check the test after every change:"
   ]
  },
  {
   "cell_type": "code",
   "execution_count": null,
   "metadata": {},
   "outputs": [],
   "source": [
    "def pairs(stop):\n",
    "    for x in range(stop):\n",
    "        yield x\n",
    "\n",
    "\n",
    "test_pairs(pairs(100))"
   ]
  },
  {
   "cell_type": "markdown",
   "metadata": {},
   "source": [
    "Like for the empty interface, the `assert` is not even evaluated. This, too, is an important test result."
   ]
  },
  {
   "cell_type": "code",
   "execution_count": null,
   "metadata": {},
   "outputs": [],
   "source": [
    "def pairs(stop):\n",
    "    for x in range(stop):\n",
    "        yield x, x\n",
    "\n",
    "\n",
    "test_pairs(pairs(100))"
   ]
  },
  {
   "cell_type": "markdown",
   "metadata": {},
   "source": [
    "Now we can evaluate the pairs, but they are incorrect."
   ]
  },
  {
   "cell_type": "code",
   "execution_count": null,
   "metadata": {},
   "outputs": [],
   "source": [
    "def pairs(stop):\n",
    "    for x in range(stop):\n",
    "        yield x, x + 1\n",
    "\n",
    "\n",
    "test_pairs(pairs(100))"
   ]
  },
  {
   "cell_type": "markdown",
   "metadata": {},
   "source": [
    "No traceback, no exception, great! Are we done?\n",
    "\n",
    "No, because our test was not really exhaustive and has neglected some part of the interface specifications. We, thus, need better tests!"
   ]
  },
  {
   "cell_type": "code",
   "execution_count": null,
   "metadata": {},
   "outputs": [],
   "source": [
    "list(pairs(5))"
   ]
  },
  {
   "cell_type": "markdown",
   "metadata": {},
   "source": [
    "In a test suite, you often find test functions which bundle a number of tests for a specific function, testing various aspects of the function's behaviour:"
   ]
  },
  {
   "cell_type": "code",
   "execution_count": null,
   "metadata": {},
   "outputs": [],
   "source": [
    "def test_pair_generator():\n",
    "    test_pairs(pairs(100))\n",
    "    assert len(list(pairs(100))) == 99, 'Generator too long'\n",
    "\n",
    "\n",
    "test_pair_generator()"
   ]
  },
  {
   "cell_type": "markdown",
   "metadata": {},
   "source": [
    "And, finally,"
   ]
  },
  {
   "cell_type": "code",
   "execution_count": null,
   "metadata": {},
   "outputs": [],
   "source": [
    "def pairs(stop):\n",
    "    for x in range(stop - 1):\n",
    "        yield x, x + 1\n",
    "\n",
    "\n",
    "test_pair_generator()"
   ]
  },
  {
   "cell_type": "markdown",
   "metadata": {},
   "source": [
    "we have something which **might** actually work as we intend it to work.\n",
    "\n",
    "If you want to write good tests, don't give in to **confirmation bias** just check that your function gives you the expected result for very few/easy cases. You should try to actually **break** your function, feed it improper parameters, and check that it breaks down where it should."
   ]
  }
 ],
 "metadata": {
  "kernelspec": {
   "display_name": "Python 3",
   "language": "python",
   "name": "python3"
  },
  "language_info": {
   "codemirror_mode": {
    "name": "ipython",
    "version": 3
   },
   "file_extension": ".py",
   "mimetype": "text/x-python",
   "name": "python",
   "nbconvert_exporter": "python",
   "pygments_lexer": "ipython3",
   "version": "3.7.0"
  }
 },
 "nbformat": 4,
 "nbformat_minor": 2
}
