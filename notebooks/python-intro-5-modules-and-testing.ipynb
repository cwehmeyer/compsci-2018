{
 "cells": [
  {
   "cell_type": "markdown",
   "metadata": {},
   "source": [
    "# Introduction to Python V: modules and testing\n",
    "\n",
    "## Content\n",
    "- How to write and use modules?\n",
    "- How tu use testing frameworks?\n",
    "\n",
    "## Remember jupyter notebooks\n",
    "- To run the currently highlighted cell, hold <kbd>&#x21E7; Shift</kbd> and press <kbd>&#x23ce; Enter</kbd>.\n",
    "- To get help for a specific function, place the cursor within the function's brackets, hold <kbd>&#x21E7; Shift</kbd>, and press <kbd>&#x21E5; Tab</kbd>."
   ]
  },
  {
   "cell_type": "code",
   "execution_count": null,
   "metadata": {},
   "outputs": [],
   "source": [
    "%matplotlib inline\n",
    "import matplotlib.pyplot as plt\n",
    "import numpy as np\n",
    "import pytest\n",
    "from regression import mean\n",
    "from regression import scalar_product\n",
    "from regression import linear_regression\n",
    "from langevin import langevin"
   ]
  },
  {
   "cell_type": "markdown",
   "metadata": {},
   "source": [
    "## Example I: linear regression\n",
    "\n",
    "We consider a linear regression problem: an experiment yielded data points $(x_n, y_n)$, $n=1,\\dots,N$. In this example, `y_true` refers to the actual truth, but due to experimental inaccuracies, the observed values `y_observed` have some error."
   ]
  },
  {
   "cell_type": "code",
   "execution_count": null,
   "metadata": {},
   "outputs": [],
   "source": [
    "x = np.random.uniform(low=0, high=10, size=500)\n",
    "y_true = 0.5 * x + 1\n",
    "y_observed = y_true + np.random.normal(size=x.shape)\n",
    "\n",
    "plt.scatter(x, y_observed, s=1, label='observation')\n",
    "plt.plot(x, y_true, color='C1', label='ground truth')\n",
    "plt.xlabel(r'$x$')\n",
    "plt.ylabel(r'$y$')\n",
    "plt.legend();"
   ]
  },
  {
   "cell_type": "markdown",
   "metadata": {},
   "source": [
    "We now use `linear_regression()` as provided by the `regression` module to estimate the best linear model to describe the $(x_n,y_n)$ relation:"
   ]
  },
  {
   "cell_type": "code",
   "execution_count": null,
   "metadata": {},
   "outputs": [],
   "source": [
    "plt.scatter(x, y_observed, s=1, label='observation')\n",
    "plt.plot(x, y_true, color='C1', label='ground truth')\n",
    "plt.xlabel(r'$x$')\n",
    "plt.ylabel(r'$y$')\n",
    "\n",
    "slope, const = linear_regression(x, y_observed)\n",
    "\n",
    "x_model = np.linspace(x.min(), x.max(), 20)\n",
    "y_model = slope * x_model + const\n",
    "\n",
    "plt.plot(x_model, y_model, '--o', color='C2', label='model')\n",
    "plt.legend()\n",
    "\n",
    "print(f'model: y = {slope:.3f} * x + {const:.3f}')"
   ]
  },
  {
   "cell_type": "markdown",
   "metadata": {},
   "source": [
    "### Black box testing\n",
    "\n",
    "In this part, we try to write tests blindly, i.e., without looking at the actual implementation of `mean()`, `scalar_product()`, and `linear_regression()`. These tests should tell us whether the functions behave as we expect. \n",
    "\n",
    "We begin with `mean()`and our only source of information is the function's signature\n",
    "\n",
    "```Python\n",
    "mean(a: iterable) -> float\n",
    "```\n",
    "\n",
    "and a mathemetical expression\n",
    "\n",
    "$$\\bar{a} = \\frac{1}{N}\\sum_{n=0}^{N-1} a_n$$"
   ]
  },
  {
   "cell_type": "code",
   "execution_count": null,
   "metadata": {},
   "outputs": [],
   "source": [
    "def test_mean():\n",
    "    assert mean([0]) == 0\n",
    "    assert mean([0, 0]) == 0\n",
    "    assert mean([1]) == 1\n",
    "    assert mean([1, 1]) == 1\n",
    "    assert mean([float(i + 1) for i in range(100)]) == 50.5\n",
    "\n",
    "\n",
    "def test_mean_border_cases():\n",
    "    with pytest.raises(TypeError):\n",
    "        mean()\n",
    "    with pytest.raises(TypeError):\n",
    "        mean(1)\n",
    "    with pytest.raises(TypeError):\n",
    "        mean('hello, world')\n",
    "    assert mean([]) == 0\n",
    "\n",
    "\n",
    "test_mean()\n",
    "test_mean_border_cases()"
   ]
  },
  {
   "cell_type": "markdown",
   "metadata": {},
   "source": [
    "We have located a possible first issue: for an empty iterable, `mean()` raises a `ZeroDivisionError`.\n",
    "\n",
    "Next, we write unit tests for\n",
    "\n",
    "```Python\n",
    "scalar_product(a: iterable, b: iterable) -> float\n",
    "```\n",
    "\n",
    "$$\\left\\langle \\mathbf{a},\\mathbf{b} \\right\\rangle = \\sum\\limits_{n=0}^{N-1} a_n b_n$$"
   ]
  },
  {
   "cell_type": "code",
   "execution_count": null,
   "metadata": {},
   "outputs": [],
   "source": [
    "def test_scalar_product_orthogonal():\n",
    "    assert scalar_product([1, 1], [0, 0]) == 0.0\n",
    "    assert scalar_product([0, 1], [1, 0]) == 0.0\n",
    "    assert scalar_product([1, 1], [1, -1]) == 0.0\n",
    "\n",
    "\n",
    "def test_scalar_product_squared_norm():\n",
    "    assert scalar_product([1, 1], [1, 1]) == 2.0\n",
    "    assert scalar_product([3, 4], [3, 4]) == 5**2\n",
    "\n",
    "\n",
    "def test_scalar_product_border_cases():\n",
    "    with pytest.raises(TypeError):\n",
    "        scalar_product()\n",
    "    with pytest.raises(TypeError):\n",
    "        scalar_product(1, 1)\n",
    "    with pytest.raises(TypeError):\n",
    "        scalar_product([1], 1)\n",
    "    with pytest.raises(TypeError):\n",
    "        scalar_product(1, [1])\n",
    "    with pytest.raises(ValueError):\n",
    "        scalar_product([1, 1], [1])\n",
    "    with pytest.raises(ValueError):\n",
    "        scalar_product([1], [1, 1])\n",
    "    with pytest.raises(TypeError):\n",
    "        scalar_product('hello', 'world')\n",
    "    assert scalar_product([], []) == 0\n",
    "\n",
    "\n",
    "test_scalar_product_orthogonal()\n",
    "test_scalar_product_squared_norm()\n",
    "test_scalar_product_border_cases()"
   ]
  },
  {
   "cell_type": "markdown",
   "metadata": {},
   "source": [
    "This function seems to be quite predictable.\n",
    "\n",
    "Finally, we write integration tests (as we reuse `mean()` and `scalar_product()`) for\n",
    "\n",
    "```Python\n",
    "linear_regression(x: iterable, y: iterable) -> (float, float)\n",
    "```\n",
    "\n",
    "$$\\begin{eqnarray*}\n",
    "\\textrm{slope} & = & \\frac{\\sum_{n=0}^{N-1} \\left( x_n - \\bar{x} \\middle) \\middle( y_n - \\bar{y} \\right)}{\\sum_{n=0}^{N-1} \\left( x_n - \\bar{x} \\right)^2} \\\\[0.5em]\n",
    "\\textrm{const} & = & \\bar{y} - \\textrm{slope } \\bar{x}\n",
    "\\end{eqnarray*}$$"
   ]
  },
  {
   "cell_type": "code",
   "execution_count": null,
   "metadata": {},
   "outputs": [],
   "source": [
    "def test_linear_regression():\n",
    "    slope, const = linear_regression([0, 1], [0, 0])\n",
    "    assert slope == 0\n",
    "    assert const == 0\n",
    "    slope, const = linear_regression([0, 1], [1, 1])\n",
    "    assert slope == 0\n",
    "    assert const == 1\n",
    "    slope, const = linear_regression([0, 1], [1, 0])\n",
    "    assert slope == -1\n",
    "    assert const == 1\n",
    "\n",
    "\n",
    "def test_linear_regression_border_cases():\n",
    "    with pytest.raises(TypeError):\n",
    "        linear_regression()\n",
    "    with pytest.raises(TypeError):\n",
    "        linear_regression(1)\n",
    "    with pytest.raises(TypeError):\n",
    "        linear_regression(1, 1)\n",
    "    with pytest.raises(TypeError):\n",
    "        linear_regression(1, [1])\n",
    "    with pytest.raises(TypeError):\n",
    "        linear_regression([1], 1)\n",
    "    with pytest.raises(ValueError):\n",
    "        linear_regression([1, 1], [1])\n",
    "    with pytest.raises(ValueError):\n",
    "        linear_regression([1], [1, 1])\n",
    "    slope, const = linear_regression([], [])\n",
    "    assert slope == 0\n",
    "    assert const == 0\n",
    "\n",
    "\n",
    "test_linear_regression()\n",
    "test_linear_regression_border_cases()"
   ]
  },
  {
   "cell_type": "markdown",
   "metadata": {},
   "source": [
    "And, again, we find the `ZeroDivisionError` raised by `mean()` in the integration test for our `linear_regression()`.\n",
    "\n",
    "We now must decide how to deal with this situation. Do we keep the current behaviour and deal with the raised exception? Or do we catch this issue within `mean()` and use a sensible fix, e.g., set `mean([])` to zero?\n",
    "\n",
    "## Example II: a Langevin integrator\n",
    "\n",
    "The `langevin` module has an equally named function `langevin()`which provides the signature and docstring\n",
    "\n",
    "```Python\n",
    "def langevin(\n",
    "        force, n_steps, x_init, v_init, mass,\n",
    "        time_step=0.001, damping=0.1, beta=1.0):\n",
    "    \"\"\"Langevin integrator for initial value problems\n",
    "\n",
    "    This function implements the BAOAB algorithm of Benedict Leimkuhler\n",
    "    and Charles Matthews. See J. Chem. Phys. 138, 174102 (2013) for\n",
    "    further details.\n",
    "\n",
    "    Arguments:\n",
    "        force (function): computes the forces of a single configuration\n",
    "        n_steps (int): number of integration steps\n",
    "        x_init (numpy.ndarray(n, d)): initial configuration\n",
    "        v_init (numpy.ndarray(n, d)): initial velocities\n",
    "        mass (numpy.ndarray(n)): particle masses\n",
    "        time_step (float): time step for the integration\n",
    "        damping (float): damping term, use zero if not coupled\n",
    "        beta (float): inverse temperature\n",
    "\n",
    "    Returns:\n",
    "        x (numpy.ndarray(n_steps + 1, n, d)): configuraiton trajectory\n",
    "        v (numpy.ndarray(n_steps + 1, n, d)): velocity trajectory\n",
    "    \"\"\"\n",
    "```"
   ]
  },
  {
   "cell_type": "code",
   "execution_count": null,
   "metadata": {},
   "outputs": [],
   "source": [
    "def harmonic_potential(x):\n",
    "    return 0.5 * np.sum(x**2, axis=(-2, -1))\n",
    "\n",
    "\n",
    "def harmonic_force(x):\n",
    "    return -x\n",
    "\n",
    "\n",
    "def kinetic_energy(v, mass):\n",
    "    return 0.5 * np.sum(v**2 * mass[None, :, None], axis=(-2, -1))\n",
    "\n",
    "\n",
    "x_init = np.array([[1.0]])\n",
    "v_init = np.array([[0.0]])\n",
    "mass = np.array([1.0])\n",
    "\n",
    "fig, axes = plt.subplots(1, 3, figsize=(10, 4), sharex=True, sharey=True)\n",
    "for ax, damping in zip(axes.flat, (0, 0.001, 0.005)):\n",
    "    ax.set_title(f'damping={damping}')\n",
    "    x, v = langevin(harmonic_force, 3000, x_init, v_init, mass, time_step=0.01, damping=damping)\n",
    "    ax.scatter(x.reshape(-1), v.reshape(-1), c=np.arange(x.size), s=1)\n",
    "    ax.set_aspect('equal')\n",
    "    ax.set_xlabel(r'$x$')\n",
    "axes[0].set_ylabel(r'$v$')\n",
    "fig.tight_layout()"
   ]
  },
  {
   "cell_type": "markdown",
   "metadata": {},
   "source": [
    "**Your task**: design a test suite for the `langevin` module!"
   ]
  }
 ],
 "metadata": {
  "kernelspec": {
   "display_name": "Python 3",
   "language": "python",
   "name": "python3"
  },
  "language_info": {
   "codemirror_mode": {
    "name": "ipython",
    "version": 3
   },
   "file_extension": ".py",
   "mimetype": "text/x-python",
   "name": "python",
   "nbconvert_exporter": "python",
   "pygments_lexer": "ipython3",
   "version": "3.7.0"
  }
 },
 "nbformat": 4,
 "nbformat_minor": 2
}
